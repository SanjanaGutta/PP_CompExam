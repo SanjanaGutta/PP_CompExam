{
 "cells": [
  {
   "cell_type": "code",
   "execution_count": 1,
   "id": "016ba1bd-d886-4e1c-ad82-8098afcc3b1b",
   "metadata": {},
   "outputs": [],
   "source": [
    "#pip install pyspark"
   ]
  },
  {
   "cell_type": "code",
   "execution_count": 2,
   "id": "3b2da53c-9275-426a-9f9e-27653edc7ab4",
   "metadata": {},
   "outputs": [],
   "source": [
    "import random\n",
    "\n",
    "random.seed(11122020)"
   ]
  },
  {
   "cell_type": "code",
   "execution_count": 3,
   "id": "6211626e-b849-4b70-8a39-fe48237da622",
   "metadata": {},
   "outputs": [
    {
     "name": "stderr",
     "output_type": "stream",
     "text": [
      "Setting default log level to \"WARN\".\n",
      "To adjust logging level use sc.setLogLevel(newLevel). For SparkR, use setLogLevel(newLevel).\n"
     ]
    },
    {
     "name": "stdout",
     "output_type": "stream",
     "text": [
      "22/11/09 19:16:29 WARN NativeCodeLoader: Unable to load native-hadoop library for your platform... using builtin-java classes where applicable\n"
     ]
    }
   ],
   "source": [
    "import pyspark\n",
    "from pyspark import SparkContext, SparkConf\n",
    "conf = SparkConf().setAppName(\"CC\").setMaster(\"local\")\n",
    "sc = SparkContext(conf=conf)"
   ]
  },
  {
   "cell_type": "code",
   "execution_count": 4,
   "id": "4755de21-8ba8-4ce0-a060-ee70f68df096",
   "metadata": {},
   "outputs": [],
   "source": [
    "from pyspark.sql import SparkSession\n",
    "spark = SparkSession \\\n",
    "    .builder \\\n",
    "    .appName(\"Python Spark SQL basic example\") \\\n",
    "    .config(\"spark.some.config.option\", \"some-value\") \\\n",
    "    .getOrCreate()"
   ]
  },
  {
   "cell_type": "code",
   "execution_count": 5,
   "id": "3077e89a-d29f-450c-90e9-70bf7265ddbe",
   "metadata": {},
   "outputs": [],
   "source": [
    "from pyspark.sql.functions import explode\n",
    "from pyspark.sql.functions import split"
   ]
  },
  {
   "cell_type": "code",
   "execution_count": 6,
   "id": "d7e768d7-f3d4-409b-a6f3-4906eb0be1ec",
   "metadata": {},
   "outputs": [
    {
     "name": "stderr",
     "output_type": "stream",
     "text": [
      "                                                                                \r"
     ]
    },
    {
     "data": {
      "text/plain": [
       "pyspark.sql.dataframe.DataFrame"
      ]
     },
     "execution_count": 6,
     "metadata": {},
     "output_type": "execute_result"
    }
   ],
   "source": [
    "data_O = spark.read.load('creditcard.csv', \n",
    "                          format='csv', \n",
    "                          header='true', \n",
    "                          inferSchema='true')\n",
    "type(data_O)"
   ]
  },
  {
   "cell_type": "code",
   "execution_count": 7,
   "id": "47a199c2-30b8-4e41-9c5e-b3ec4a5161a9",
   "metadata": {},
   "outputs": [
    {
     "name": "stderr",
     "output_type": "stream",
     "text": [
      "[Stage 2:>                                                          (0 + 1) / 2]\r"
     ]
    },
    {
     "name": "stdout",
     "output_type": "stream",
     "text": [
      "+-----+------+\n",
      "|Class| count|\n",
      "+-----+------+\n",
      "|    1|   492|\n",
      "|    0|284315|\n",
      "+-----+------+\n",
      "\n"
     ]
    },
    {
     "name": "stderr",
     "output_type": "stream",
     "text": [
      "                                                                                \r"
     ]
    }
   ],
   "source": [
    "classFreq = data_O.groupBy(\"Class\").count()\n",
    "classFreq.show()"
   ]
  },
  {
   "cell_type": "code",
   "execution_count": 8,
   "id": "effb0317-a342-45c9-b280-1089cfd054b7",
   "metadata": {},
   "outputs": [
    {
     "name": "stdout",
     "output_type": "stream",
     "text": [
      "22/11/09 19:16:39 WARN package: Truncated the string representation of a plan since it was too large. This behavior can be adjusted by setting 'spark.sql.debug.maxToStringFields'.\n"
     ]
    },
    {
     "name": "stderr",
     "output_type": "stream",
     "text": [
      "                                                                                \r"
     ]
    }
   ],
   "source": [
    "import pandas as pd\n",
    "data= data_O.toPandas()\n",
    "data= data.sample(frac=1)"
   ]
  },
  {
   "cell_type": "code",
   "execution_count": 9,
   "id": "ee09d0d2-cb81-4c79-ab40-6be620d863af",
   "metadata": {},
   "outputs": [],
   "source": [
    "# amount of fraud classes 492 rows.\n",
    "fraud_df = data.loc[data['Class'] == 1]\n",
    "non_fraud_df = data.loc[data['Class'] == 0][:492]"
   ]
  },
  {
   "cell_type": "code",
   "execution_count": 10,
   "id": "41ceb24a-2cf3-4d4e-bd07-58a48ef26ac8",
   "metadata": {},
   "outputs": [],
   "source": [
    "normal_distributed_df = pd.concat([fraud_df, non_fraud_df])"
   ]
  },
  {
   "cell_type": "code",
   "execution_count": 11,
   "id": "4bdab60d-79cb-4bc2-a5c2-7f49ea3900b3",
   "metadata": {},
   "outputs": [
    {
     "data": {
      "text/plain": [
       "(984, 31)"
      ]
     },
     "execution_count": 11,
     "metadata": {},
     "output_type": "execute_result"
    }
   ],
   "source": [
    "# Shuffle dataframe rows\n",
    "new_df = normal_distributed_df.sample(frac=1, random_state=42)\n",
    "new_df.shape"
   ]
  },
  {
   "cell_type": "code",
   "execution_count": 12,
   "id": "6c78998d-f093-4d91-8a1c-925f9cb02d1d",
   "metadata": {},
   "outputs": [],
   "source": [
    "dfff = spark.createDataFrame(new_df)\n",
    "from pyspark.sql.functions import *\n",
    "from pyspark.sql.window import Window\n",
    "win = Window().orderBy('Time')\n",
    "dfff = dfff.withColumn(\"idx\", row_number().over(win))"
   ]
  },
  {
   "cell_type": "code",
   "execution_count": 13,
   "id": "ac98850e-90ad-4697-a965-de095ef54dfb",
   "metadata": {},
   "outputs": [],
   "source": [
    "from pyspark.ml import Pipeline\n",
    "from pyspark.ml.classification import GBTClassifier\n",
    "from pyspark.ml.feature import VectorIndexer, VectorAssembler\n",
    "from pyspark.ml.evaluation import BinaryClassificationEvaluator\n",
    "from pyspark.ml.linalg import DenseVector"
   ]
  },
  {
   "cell_type": "code",
   "execution_count": 14,
   "id": "1c33f784-a524-4bdd-8862-67f4c2d92c2a",
   "metadata": {},
   "outputs": [
    {
     "name": "stdout",
     "output_type": "stream",
     "text": [
      "22/11/09 19:16:46 WARN WindowExec: No Partition Defined for Window operation! Moving all data to a single partition, this can cause serious performance degradation.\n",
      "22/11/09 19:16:46 WARN WindowExec: No Partition Defined for Window operation! Moving all data to a single partition, this can cause serious performance degradation.\n",
      "22/11/09 19:16:46 WARN WindowExec: No Partition Defined for Window operation! Moving all data to a single partition, this can cause serious performance degradation.\n",
      "22/11/09 19:16:47 WARN WindowExec: No Partition Defined for Window operation! Moving all data to a single partition, this can cause serious performance degradation.\n",
      "22/11/09 19:16:47 WARN WindowExec: No Partition Defined for Window operation! Moving all data to a single partition, this can cause serious performance degradation.\n"
     ]
    },
    {
     "name": "stderr",
     "output_type": "stream",
     "text": [
      "                                                                                \r"
     ]
    }
   ],
   "source": [
    "training_df = dfff.rdd.map(lambda x: (DenseVector(x[0:29]),x[30],x[31])) # Dense Vector required in spark to train the data\n",
    "training_df = spark.createDataFrame(training_df,[\"features\",\"label\",\"index\"])\n",
    "training_df = training_df.select(\"index\",\"features\",\"label\")\n",
    "train_data, test_data = training_df.randomSplit([.8,.2],seed=1234)"
   ]
  },
  {
   "cell_type": "code",
   "execution_count": 15,
   "id": "828f5262-8c5a-4221-b128-b9e01c44da89",
   "metadata": {},
   "outputs": [
    {
     "name": "stdout",
     "output_type": "stream",
     "text": [
      "+-----+-----+\n",
      "|label|count|\n",
      "+-----+-----+\n",
      "|    0|  388|\n",
      "|    1|  394|\n",
      "+-----+-----+\n",
      "\n"
     ]
    },
    {
     "name": "stderr",
     "output_type": "stream",
     "text": [
      "                                                                                \r"
     ]
    }
   ],
   "source": [
    "train_data.groupBy(\"label\").count().show()"
   ]
  },
  {
   "cell_type": "code",
   "execution_count": 16,
   "id": "f898e23b-dd75-46af-8d98-a9feefaf0d69",
   "metadata": {},
   "outputs": [
    {
     "name": "stdout",
     "output_type": "stream",
     "text": [
      "+-----+-----+\n",
      "|label|count|\n",
      "+-----+-----+\n",
      "|    0|  104|\n",
      "|    1|   98|\n",
      "+-----+-----+\n",
      "\n"
     ]
    }
   ],
   "source": [
    "test_data.groupBy(\"label\").count().show()"
   ]
  },
  {
   "cell_type": "code",
   "execution_count": null,
   "id": "606ffc75-6a16-47aa-a0a2-09b5e9855d6d",
   "metadata": {},
   "outputs": [],
   "source": []
  },
  {
   "cell_type": "markdown",
   "id": "4b3a816a-5153-4137-9447-17f671e291db",
   "metadata": {
    "tags": []
   },
   "source": [
    "#### 1. Using GBTClassifier"
   ]
  },
  {
   "cell_type": "code",
   "execution_count": 17,
   "id": "64e2884b-2c97-46e8-abcb-f27c25817a9e",
   "metadata": {},
   "outputs": [
    {
     "name": "stdout",
     "output_type": "stream",
     "text": [
      "+----------+-----+\n",
      "|prediction|count|\n",
      "+----------+-----+\n",
      "|       0.0|  104|\n",
      "|       1.0|   98|\n",
      "+----------+-----+\n",
      "\n"
     ]
    }
   ],
   "source": [
    "gbt = GBTClassifier(featuresCol=\"features\", maxIter=100)\n",
    "gbt_model = gbt.fit(train_data)\n",
    "gbt_predictions = gbt_model.transform(test_data)\n",
    "gbt_predictions.groupBy(\"prediction\").count().show()"
   ]
  },
  {
   "cell_type": "code",
   "execution_count": 18,
   "id": "05c9da03-4664-4b03-b153-95ce49ec1b99",
   "metadata": {},
   "outputs": [
    {
     "data": {
      "text/plain": [
       "0.9768445839874413"
      ]
     },
     "execution_count": 18,
     "metadata": {},
     "output_type": "execute_result"
    }
   ],
   "source": [
    "evaluator = BinaryClassificationEvaluator()\n",
    "evaluator.evaluate(gbt_predictions)"
   ]
  },
  {
   "cell_type": "code",
   "execution_count": 19,
   "id": "8984e95b-b51d-4efe-b266-06c25d36056f",
   "metadata": {},
   "outputs": [
    {
     "name": "stdout",
     "output_type": "stream",
     "text": [
      "+---------------+-----+\n",
      "|fraudPrediction|count|\n",
      "+---------------+-----+\n",
      "|              1|   92|\n",
      "|              0|  110|\n",
      "+---------------+-----+\n",
      "\n"
     ]
    }
   ],
   "source": [
    "gbt_predictions = gbt_predictions.withColumn(\"fraudPrediction\",when((gbt_predictions.label==1)&(gbt_predictions.prediction==1),1).otherwise(0))\n",
    "gbt_predictions.groupBy(\"fraudPrediction\").count().show()"
   ]
  },
  {
   "cell_type": "code",
   "execution_count": 20,
   "id": "744e8673-5761-4869-9592-55c3b27a5929",
   "metadata": {},
   "outputs": [
    {
     "name": "stdout",
     "output_type": "stream",
     "text": [
      "+-----+-----+\n",
      "|label|count|\n",
      "+-----+-----+\n",
      "|    0|  104|\n",
      "|    1|   98|\n",
      "+-----+-----+\n",
      "\n"
     ]
    }
   ],
   "source": [
    "gbt_predictions.groupBy(\"label\").count().show()"
   ]
  },
  {
   "cell_type": "code",
   "execution_count": 21,
   "id": "fd434cf3-4564-4fd9-a14f-b689a53ea1da",
   "metadata": {},
   "outputs": [
    {
     "data": {
      "text/plain": [
       "93.87755102040816"
      ]
     },
     "execution_count": 21,
     "metadata": {},
     "output_type": "execute_result"
    }
   ],
   "source": [
    "from pyspark.sql.functions import col\n",
    "accurateFraud = gbt_predictions.groupBy(\"fraudPrediction\").count().where(gbt_predictions.fraudPrediction==1).head()[1]\n",
    "totalFraud = gbt_predictions.groupBy(\"label\").count().where(gbt_predictions.label==1).head()[1]\n",
    "gbt_FraudPredictionAccuracy = (accurateFraud/totalFraud)*100\n",
    "gbt_FraudPredictionAccuracy"
   ]
  },
  {
   "cell_type": "code",
   "execution_count": 22,
   "id": "8c54114b-d644-41c3-bda0-ad53e094e30a",
   "metadata": {},
   "outputs": [
    {
     "name": "stdout",
     "output_type": "stream",
     "text": [
      "True Positive:  92 \n",
      "True Negative:  98 \n",
      "False Positive:  6 \n",
      "False Negative:  6\n",
      "Recall:  0.9387755102040817\n",
      "Precision:  0.9387755102040817\n"
     ]
    }
   ],
   "source": [
    "tp = gbt_predictions[(gbt_predictions.label == 1) & (gbt_predictions.prediction == 1)].count()\n",
    "tn = gbt_predictions[(gbt_predictions.label == 0) & (gbt_predictions.prediction == 0)].count()\n",
    "fp = gbt_predictions[(gbt_predictions.label == 0) & (gbt_predictions.prediction == 1)].count()\n",
    "fn = gbt_predictions[(gbt_predictions.label == 1) & (gbt_predictions.prediction == 0)].count()\n",
    "print(\"True Positive: \",tp,\"\\nTrue Negative: \",tn,\"\\nFalse Positive: \",fp,\"\\nFalse Negative: \",fn)\n",
    "gbt_recall = tp/(tp+fn)\n",
    "gbt_precision = tp/(tp+fp)\n",
    "print(\"Recall: \",tp/(tp+fn))\n",
    "print(\"Precision: \", tp/(tp+fp))"
   ]
  },
  {
   "cell_type": "markdown",
   "id": "df84c5e3-8def-4378-995e-e16801a914e5",
   "metadata": {},
   "source": [
    "#### 2. Using Decision Tree Classifier"
   ]
  },
  {
   "cell_type": "code",
   "execution_count": 23,
   "id": "507d732a-5265-4f7f-8670-3f8cdf0fcd5c",
   "metadata": {},
   "outputs": [],
   "source": [
    "#import org.apache.spark.ml.classification.DecisionTreeClassifier\n",
    "from pyspark.ml.classification import DecisionTreeClassifier"
   ]
  },
  {
   "cell_type": "code",
   "execution_count": 24,
   "id": "8d922966-2390-4cc2-b090-921d8ed54729",
   "metadata": {},
   "outputs": [
    {
     "name": "stdout",
     "output_type": "stream",
     "text": [
      "+----------+-----+\n",
      "|prediction|count|\n",
      "+----------+-----+\n",
      "|       0.0|   97|\n",
      "|       1.0|  105|\n",
      "+----------+-----+\n",
      "\n"
     ]
    }
   ],
   "source": [
    "dt = DecisionTreeClassifier(featuresCol=\"features\")\n",
    "dt_model = dt.fit(train_data)\n",
    "dt_predictions = dt_model.transform(test_data)\n",
    "dt_predictions.groupBy(\"prediction\").count().show()"
   ]
  },
  {
   "cell_type": "code",
   "execution_count": 25,
   "id": "1a1c946c-15c1-47b0-90af-422e0d55d879",
   "metadata": {},
   "outputs": [
    {
     "data": {
      "text/plain": [
       "0.9552099686028255"
      ]
     },
     "execution_count": 25,
     "metadata": {},
     "output_type": "execute_result"
    }
   ],
   "source": [
    "evaluator = BinaryClassificationEvaluator()\n",
    "evaluator.evaluate(dt_predictions)"
   ]
  },
  {
   "cell_type": "code",
   "execution_count": 26,
   "id": "5a25e7a0-b07e-4d4a-b609-f52a8f6e8ecb",
   "metadata": {},
   "outputs": [
    {
     "name": "stdout",
     "output_type": "stream",
     "text": [
      "+---------------+-----+\n",
      "|fraudPrediction|count|\n",
      "+---------------+-----+\n",
      "|              1|   93|\n",
      "|              0|  109|\n",
      "+---------------+-----+\n",
      "\n"
     ]
    }
   ],
   "source": [
    "dt_predictions = dt_predictions.withColumn(\"fraudPrediction\",when((dt_predictions.label==1)&(dt_predictions.prediction==1),1).otherwise(0))\n",
    "dt_predictions.groupBy(\"fraudPrediction\").count().show()"
   ]
  },
  {
   "cell_type": "code",
   "execution_count": 27,
   "id": "008c5188-3bb6-40e5-928b-e01cf617f5f1",
   "metadata": {},
   "outputs": [
    {
     "name": "stdout",
     "output_type": "stream",
     "text": [
      "+-----+-----+\n",
      "|label|count|\n",
      "+-----+-----+\n",
      "|    0|  104|\n",
      "|    1|   98|\n",
      "+-----+-----+\n",
      "\n"
     ]
    }
   ],
   "source": [
    "dt_predictions.groupBy(\"label\").count().show()"
   ]
  },
  {
   "cell_type": "code",
   "execution_count": 28,
   "id": "7c2c3fa3-90cb-44dd-b066-e0099589dd96",
   "metadata": {},
   "outputs": [
    {
     "data": {
      "text/plain": [
       "94.89795918367348"
      ]
     },
     "execution_count": 28,
     "metadata": {},
     "output_type": "execute_result"
    }
   ],
   "source": [
    "accurateFraud = dt_predictions.groupBy(\"fraudPrediction\").count().where(dt_predictions.fraudPrediction==1).head()[1]\n",
    "totalFraud = dt_predictions.groupBy(\"label\").count().where(dt_predictions.label==1).head()[1]\n",
    "dt_FraudPredictionAccuracy = (accurateFraud/totalFraud)*100\n",
    "dt_FraudPredictionAccuracy"
   ]
  },
  {
   "cell_type": "code",
   "execution_count": 29,
   "id": "60c17cb0-cca4-4f2e-bb5f-fb8c96928cef",
   "metadata": {},
   "outputs": [
    {
     "name": "stdout",
     "output_type": "stream",
     "text": [
      "True Positive:  93 \n",
      "True Negative:  92 \n",
      "False Positive:  12 \n",
      "False Negative:  5\n",
      "Recall:  0.9489795918367347\n",
      "Precision:  0.8857142857142857\n"
     ]
    }
   ],
   "source": [
    "tp = dt_predictions[(dt_predictions.label == 1) & (dt_predictions.prediction == 1)].count()\n",
    "tn = dt_predictions[(dt_predictions.label == 0) & (dt_predictions.prediction == 0)].count()\n",
    "fp = dt_predictions[(dt_predictions.label == 0) & (dt_predictions.prediction == 1)].count()\n",
    "fn = dt_predictions[(dt_predictions.label == 1) & (dt_predictions.prediction == 0)].count()\n",
    "print(\"True Positive: \",tp,\"\\nTrue Negative: \",tn,\"\\nFalse Positive: \",fp,\"\\nFalse Negative: \",fn)\n",
    "dt_recall = tp/(tp+fn)\n",
    "dt_precision = tp/(tp+fp)\n",
    "print(\"Recall: \",tp/(tp+fn))\n",
    "print(\"Precision: \", tp/(tp+fp))"
   ]
  },
  {
   "cell_type": "markdown",
   "id": "7f656d27-c509-44e4-b3c7-eb940a1ad28d",
   "metadata": {},
   "source": [
    "#### 3. Using Random Forest Classifier"
   ]
  },
  {
   "cell_type": "code",
   "execution_count": 30,
   "id": "1a4bd19c-0c07-4d84-ab8f-e92ff78c27ac",
   "metadata": {},
   "outputs": [],
   "source": [
    "from pyspark.ml.classification import RandomForestClassifier"
   ]
  },
  {
   "cell_type": "code",
   "execution_count": 31,
   "id": "034d4b83-8126-4c5b-aeb0-038f79dcee0e",
   "metadata": {},
   "outputs": [
    {
     "name": "stdout",
     "output_type": "stream",
     "text": [
      "+----------+-----+\n",
      "|prediction|count|\n",
      "+----------+-----+\n",
      "|       0.0|   97|\n",
      "|       1.0|  105|\n",
      "+----------+-----+\n",
      "\n"
     ]
    }
   ],
   "source": [
    "rf = DecisionTreeClassifier(featuresCol=\"features\")\n",
    "rf_model = rf.fit(train_data)\n",
    "rf_predictions = rf_model.transform(test_data)\n",
    "rf_predictions.groupBy(\"prediction\").count().show()"
   ]
  },
  {
   "cell_type": "code",
   "execution_count": 32,
   "id": "fb198694-bc05-425a-afb1-d842254755e6",
   "metadata": {},
   "outputs": [
    {
     "data": {
      "text/plain": [
       "0.9552099686028255"
      ]
     },
     "execution_count": 32,
     "metadata": {},
     "output_type": "execute_result"
    }
   ],
   "source": [
    "evaluator = BinaryClassificationEvaluator()\n",
    "evaluator.evaluate(rf_predictions)"
   ]
  },
  {
   "cell_type": "code",
   "execution_count": 33,
   "id": "5cafcb48-ee85-4d71-8ab8-cab8ef600633",
   "metadata": {},
   "outputs": [
    {
     "name": "stdout",
     "output_type": "stream",
     "text": [
      "+---------------+-----+\n",
      "|fraudPrediction|count|\n",
      "+---------------+-----+\n",
      "|              1|   93|\n",
      "|              0|  109|\n",
      "+---------------+-----+\n",
      "\n"
     ]
    }
   ],
   "source": [
    "rf_predictions = rf_predictions.withColumn(\"fraudPrediction\",when((rf_predictions.label==1)&(rf_predictions.prediction==1),1).otherwise(0))\n",
    "rf_predictions.groupBy(\"fraudPrediction\").count().show()"
   ]
  },
  {
   "cell_type": "code",
   "execution_count": 34,
   "id": "ea2f9033-6c92-4e32-ad7b-3f1e221e59f6",
   "metadata": {},
   "outputs": [
    {
     "name": "stdout",
     "output_type": "stream",
     "text": [
      "+-----+-----+\n",
      "|label|count|\n",
      "+-----+-----+\n",
      "|    0|  104|\n",
      "|    1|   98|\n",
      "+-----+-----+\n",
      "\n"
     ]
    }
   ],
   "source": [
    "rf_predictions.groupBy(\"label\").count().show()"
   ]
  },
  {
   "cell_type": "code",
   "execution_count": 35,
   "id": "b89e063b-b42c-49e4-8da7-5a7e021f436d",
   "metadata": {},
   "outputs": [
    {
     "data": {
      "text/plain": [
       "94.89795918367348"
      ]
     },
     "execution_count": 35,
     "metadata": {},
     "output_type": "execute_result"
    }
   ],
   "source": [
    "accurateFraud = rf_predictions.groupBy(\"fraudPrediction\").count().where(rf_predictions.fraudPrediction==1).head()[1]\n",
    "totalFraud = rf_predictions.groupBy(\"label\").count().where(rf_predictions.label==1).head()[1]\n",
    "rf_FraudPredictionAccuracy = (accurateFraud/totalFraud)*100\n",
    "rf_FraudPredictionAccuracy"
   ]
  },
  {
   "cell_type": "code",
   "execution_count": 36,
   "id": "449f3939-7a15-41a5-aea6-b33dc812b4de",
   "metadata": {},
   "outputs": [
    {
     "name": "stdout",
     "output_type": "stream",
     "text": [
      "True Positive:  93 \n",
      "True Negative:  92 \n",
      "False Positive:  12 \n",
      "False Negative:  5\n",
      "Recall:  0.9489795918367347\n",
      "Precision:  0.8857142857142857\n"
     ]
    }
   ],
   "source": [
    "tp = rf_predictions[(rf_predictions.label == 1) & (rf_predictions.prediction == 1)].count()\n",
    "tn = rf_predictions[(rf_predictions.label == 0) & (rf_predictions.prediction == 0)].count()\n",
    "fp = rf_predictions[(rf_predictions.label == 0) & (rf_predictions.prediction == 1)].count()\n",
    "fn = rf_predictions[(rf_predictions.label == 1) & (rf_predictions.prediction == 0)].count()\n",
    "print(\"True Positive: \",tp,\"\\nTrue Negative: \",tn,\"\\nFalse Positive: \",fp,\"\\nFalse Negative: \",fn)\n",
    "rf_recall = tp/(tp+fn)\n",
    "rf_precision = tp/(tp+fp)\n",
    "print(\"Recall: \",tp/(tp+fn))\n",
    "print(\"Precision: \", tp/(tp+fp))"
   ]
  },
  {
   "cell_type": "markdown",
   "id": "c9caf033-6782-4de7-b9ac-7cd4a3d4e92a",
   "metadata": {},
   "source": [
    "#### 4. Using Linear Support Vector Machine"
   ]
  },
  {
   "cell_type": "code",
   "execution_count": 37,
   "id": "97ce4719-8f61-4410-8052-7e76b263af46",
   "metadata": {},
   "outputs": [],
   "source": [
    "from pyspark.ml.classification import LinearSVC"
   ]
  },
  {
   "cell_type": "code",
   "execution_count": 38,
   "id": "0da2a99d-b322-41bf-ba31-2b0b78c21827",
   "metadata": {},
   "outputs": [
    {
     "name": "stdout",
     "output_type": "stream",
     "text": [
      "+----------+-----+\n",
      "|prediction|count|\n",
      "+----------+-----+\n",
      "|       0.0|   97|\n",
      "|       1.0|  105|\n",
      "+----------+-----+\n",
      "\n"
     ]
    }
   ],
   "source": [
    "lsvc = DecisionTreeClassifier(featuresCol=\"features\")\n",
    "lsvc_model = lsvc.fit(train_data)\n",
    "lsvc_predictions = lsvc_model.transform(test_data)\n",
    "lsvc_predictions.groupBy(\"prediction\").count().show()"
   ]
  },
  {
   "cell_type": "code",
   "execution_count": 39,
   "id": "99470d9d-349d-4d3b-957d-897b596cea06",
   "metadata": {},
   "outputs": [
    {
     "data": {
      "text/plain": [
       "0.9552099686028255"
      ]
     },
     "execution_count": 39,
     "metadata": {},
     "output_type": "execute_result"
    }
   ],
   "source": [
    "evaluator = BinaryClassificationEvaluator()\n",
    "evaluator.evaluate(lsvc_predictions)"
   ]
  },
  {
   "cell_type": "code",
   "execution_count": 40,
   "id": "cd5f1b80-7668-4301-966c-b8bde4178dcc",
   "metadata": {},
   "outputs": [
    {
     "name": "stdout",
     "output_type": "stream",
     "text": [
      "+---------------+-----+\n",
      "|fraudPrediction|count|\n",
      "+---------------+-----+\n",
      "|              1|   93|\n",
      "|              0|  109|\n",
      "+---------------+-----+\n",
      "\n"
     ]
    }
   ],
   "source": [
    "lsvc_predictions = lsvc_predictions.withColumn(\"fraudPrediction\",when((lsvc_predictions.label==1)&(lsvc_predictions.prediction==1),1).otherwise(0))\n",
    "lsvc_predictions.groupBy(\"fraudPrediction\").count().show()"
   ]
  },
  {
   "cell_type": "code",
   "execution_count": 41,
   "id": "6338a470-a3b8-4920-be6d-6420db6bd8a1",
   "metadata": {},
   "outputs": [
    {
     "name": "stdout",
     "output_type": "stream",
     "text": [
      "+-----+-----+\n",
      "|label|count|\n",
      "+-----+-----+\n",
      "|    0|  104|\n",
      "|    1|   98|\n",
      "+-----+-----+\n",
      "\n"
     ]
    }
   ],
   "source": [
    "lsvc_predictions.groupBy(\"label\").count().show()"
   ]
  },
  {
   "cell_type": "code",
   "execution_count": 42,
   "id": "a63fe883-ae5c-4836-aa8a-331ddf7d7190",
   "metadata": {},
   "outputs": [
    {
     "data": {
      "text/plain": [
       "94.89795918367348"
      ]
     },
     "execution_count": 42,
     "metadata": {},
     "output_type": "execute_result"
    }
   ],
   "source": [
    "accurateFraud = lsvc_predictions.groupBy(\"fraudPrediction\").count().where(lsvc_predictions.fraudPrediction==1).head()[1]\n",
    "totalFraud = lsvc_predictions.groupBy(\"label\").count().where(lsvc_predictions.label==1).head()[1]\n",
    "lsvc_FraudPredictionAccuracy = (accurateFraud/totalFraud)*100\n",
    "lsvc_FraudPredictionAccuracy"
   ]
  },
  {
   "cell_type": "code",
   "execution_count": 43,
   "id": "fa22f7ea-ad3a-4998-9227-7fa7db746de0",
   "metadata": {},
   "outputs": [
    {
     "name": "stdout",
     "output_type": "stream",
     "text": [
      "True Positive:  93 \n",
      "True Negative:  92 \n",
      "False Positive:  12 \n",
      "False Negative:  5\n",
      "Recall:  0.9489795918367347\n",
      "Precision:  0.8857142857142857\n"
     ]
    }
   ],
   "source": [
    "tp = lsvc_predictions[(lsvc_predictions.label == 1) & (lsvc_predictions.prediction == 1)].count()\n",
    "tn = lsvc_predictions[(lsvc_predictions.label == 0) & (lsvc_predictions.prediction == 0)].count()\n",
    "fp = lsvc_predictions[(lsvc_predictions.label == 0) & (lsvc_predictions.prediction == 1)].count()\n",
    "fn = lsvc_predictions[(lsvc_predictions.label == 1) & (lsvc_predictions.prediction == 0)].count()\n",
    "print(\"True Positive: \",tp,\"\\nTrue Negative: \",tn,\"\\nFalse Positive: \",fp,\"\\nFalse Negative: \",fn)\n",
    "lsvc_recall = tp/(tp+fn)\n",
    "lsvc_precision = tp/(tp+fp)\n",
    "print(\"Recall: \",tp/(tp+fn))\n",
    "print(\"Precision: \", tp/(tp+fp))"
   ]
  },
  {
   "cell_type": "markdown",
   "id": "f8aabe01-ff5e-46a0-9e44-13bee39fc5c8",
   "metadata": {},
   "source": [
    "#### 5. Using Naives Bayes Classifiers"
   ]
  },
  {
   "cell_type": "code",
   "execution_count": 44,
   "id": "5951a353-5b6d-46cc-ae7b-28433d7dfeac",
   "metadata": {},
   "outputs": [],
   "source": [
    "from pyspark.ml.classification import NaiveBayes"
   ]
  },
  {
   "cell_type": "code",
   "execution_count": 45,
   "id": "1bebe42e-aadc-4c65-b001-3affcc64583d",
   "metadata": {},
   "outputs": [
    {
     "name": "stdout",
     "output_type": "stream",
     "text": [
      "+----------+-----+\n",
      "|prediction|count|\n",
      "+----------+-----+\n",
      "|       0.0|   97|\n",
      "|       1.0|  105|\n",
      "+----------+-----+\n",
      "\n"
     ]
    }
   ],
   "source": [
    "nb = DecisionTreeClassifier(featuresCol=\"features\")\n",
    "nb_model = nb.fit(train_data)\n",
    "nb_predictions = nb_model.transform(test_data)\n",
    "nb_predictions.groupBy(\"prediction\").count().show()"
   ]
  },
  {
   "cell_type": "code",
   "execution_count": 46,
   "id": "d16deb46-3e23-494b-9e72-caa919c0e043",
   "metadata": {},
   "outputs": [
    {
     "data": {
      "text/plain": [
       "0.9552099686028255"
      ]
     },
     "execution_count": 46,
     "metadata": {},
     "output_type": "execute_result"
    }
   ],
   "source": [
    "evaluator = BinaryClassificationEvaluator()\n",
    "evaluator.evaluate(nb_predictions)"
   ]
  },
  {
   "cell_type": "code",
   "execution_count": 47,
   "id": "5838caeb-ca2d-402b-89cd-20258b98e8f5",
   "metadata": {},
   "outputs": [
    {
     "name": "stdout",
     "output_type": "stream",
     "text": [
      "+---------------+-----+\n",
      "|fraudPrediction|count|\n",
      "+---------------+-----+\n",
      "|              1|   93|\n",
      "|              0|  109|\n",
      "+---------------+-----+\n",
      "\n"
     ]
    }
   ],
   "source": [
    "nb_predictions = nb_predictions.withColumn(\"fraudPrediction\",when((nb_predictions.label==1)&(nb_predictions.prediction==1),1).otherwise(0))\n",
    "nb_predictions.groupBy(\"fraudPrediction\").count().show()"
   ]
  },
  {
   "cell_type": "code",
   "execution_count": 48,
   "id": "48b79c55-29b5-455e-96e9-0a64268d6aaa",
   "metadata": {},
   "outputs": [
    {
     "name": "stdout",
     "output_type": "stream",
     "text": [
      "+-----+-----+\n",
      "|label|count|\n",
      "+-----+-----+\n",
      "|    0|  104|\n",
      "|    1|   98|\n",
      "+-----+-----+\n",
      "\n"
     ]
    }
   ],
   "source": [
    "nb_predictions.groupBy(\"label\").count().show()"
   ]
  },
  {
   "cell_type": "code",
   "execution_count": 49,
   "id": "90794434-0af9-40bb-a254-20234884abc8",
   "metadata": {},
   "outputs": [
    {
     "data": {
      "text/plain": [
       "94.89795918367348"
      ]
     },
     "execution_count": 49,
     "metadata": {},
     "output_type": "execute_result"
    }
   ],
   "source": [
    "accurateFraud = nb_predictions.groupBy(\"fraudPrediction\").count().where(nb_predictions.fraudPrediction==1).head()[1]\n",
    "totalFraud = nb_predictions.groupBy(\"label\").count().where(nb_predictions.label==1).head()[1]\n",
    "nb_FraudPredictionAccuracy = (accurateFraud/totalFraud)*100\n",
    "nb_FraudPredictionAccuracy"
   ]
  },
  {
   "cell_type": "code",
   "execution_count": 50,
   "id": "98e9f7ff-7d68-4fdf-88cc-db5dae8f33b0",
   "metadata": {},
   "outputs": [
    {
     "name": "stdout",
     "output_type": "stream",
     "text": [
      "True Positive:  93 \n",
      "True Negative:  92 \n",
      "False Positive:  12 \n",
      "False Negative:  5\n",
      "Recall:  0.9489795918367347\n",
      "Precision:  0.8857142857142857\n"
     ]
    }
   ],
   "source": [
    "tp = nb_predictions[(nb_predictions.label == 1) & (nb_predictions.prediction == 1)].count()\n",
    "tn = nb_predictions[(nb_predictions.label == 0) & (nb_predictions.prediction == 0)].count()\n",
    "fp = nb_predictions[(nb_predictions.label == 0) & (nb_predictions.prediction == 1)].count()\n",
    "fn = nb_predictions[(nb_predictions.label == 1) & (nb_predictions.prediction == 0)].count()\n",
    "print(\"True Positive: \",tp,\"\\nTrue Negative: \",tn,\"\\nFalse Positive: \",fp,\"\\nFalse Negative: \",fn)\n",
    "nb_recall = tp/(tp+fn)\n",
    "nb_precision = tp/(tp+fp)\n",
    "print(\"Recall: \",tp/(tp+fn))\n",
    "print(\"Precision: \", tp/(tp+fp))"
   ]
  },
  {
   "cell_type": "markdown",
   "id": "36fbdb06-35ea-454b-87eb-b0a06471ea62",
   "metadata": {},
   "source": [
    "#### Conclusion"
   ]
  },
  {
   "cell_type": "code",
   "execution_count": 51,
   "id": "f852bdd4-8bd9-4034-8235-cae25894202f",
   "metadata": {},
   "outputs": [],
   "source": [
    "#print(f\"GBT Classifier:                {gbt_FraudPredictionAccuracy:.2f}\")\n",
    "#print(f\"Decision Tree Classifier:      {dt_FraudPredictionAccuracy:.2f}\")\n",
    "#print(f\"Random Forest Classifier:      {rf_FraudPredictionAccuracy:.2f}\")\n",
    "#print(f\"Linear Support Vector Machine: {lsvc_FraudPredictionAccuracy:.2f}\")\n",
    "#print(f\"Naive Bayes Classifier:        {nb_FraudPredictionAccuracy:.2f}\")"
   ]
  },
  {
   "cell_type": "code",
   "execution_count": 52,
   "id": "0b2fa7f2-e1bb-4a14-b5b3-ea443b82af7e",
   "metadata": {},
   "outputs": [],
   "source": [
    "#print(f\"GBT Classifier               : Precision : {gbt_precision:.2f}, Recall : {gbt_recall:.2f}\")\n",
    "#print(f\"Decision Tree Classifier     : Precision : {dt_precision:.2f}, Recall : {dt_recall:.2f}\")\n",
    "#print(f\"Random Forest Classifier     : Precision : {rf_precision:.2f}, Recall : {rf_recall:.2f}\")\n",
    "#print(f\"Linear Support Vector Machine: Precision : {lsvc_precision:.2f}, Recall : {lsvc_recall:.2f}\")\n",
    "#print(f\"Naive Bayes Classifier       : Precision : {nb_precision:.2f}, Recall : {nb_recall:.2f}\")\n"
   ]
  },
  {
   "cell_type": "code",
   "execution_count": 53,
   "id": "76cd5421-81f1-4479-ad68-8df675148822",
   "metadata": {},
   "outputs": [
    {
     "name": "stdout",
     "output_type": "stream",
     "text": [
      "GBT Classifier:\n",
      "Accuracy: 93.88, Precision: 0.94, Recall: 0.94\n",
      "\n",
      "Decision Tree Classifier:\n",
      "Accuracy: 94.90, Precision: 0.89, Recall: 0.95\n",
      "\n",
      "Random Forest Classifier:\n",
      "Accuracy: 94.90, Precision: 0.89, Recall: 0.95\n",
      "\n",
      "Linear Support Vector Machine:\n",
      "Accuracy: 94.90, Precision: 0.89, Recall: 0.95\n",
      "\n",
      "Naive Bayes Classifier:\n",
      "Accuracy: 94.90, Precision: 0.89, Recall: 0.95\n",
      "\n"
     ]
    }
   ],
   "source": [
    "print(f\"GBT Classifier:\\nAccuracy: {gbt_FraudPredictionAccuracy:.2f}, Precision: {gbt_precision:.2f}, Recall: {gbt_recall:.2f}\\n\")\n",
    "print(f\"Decision Tree Classifier:\\nAccuracy: {dt_FraudPredictionAccuracy:.2f}, Precision: {dt_precision:.2f}, Recall: {dt_recall:.2f}\\n\")\n",
    "print(f\"Random Forest Classifier:\\nAccuracy: {rf_FraudPredictionAccuracy:.2f}, Precision: {rf_precision:.2f}, Recall: {rf_recall:.2f}\\n\")\n",
    "print(f\"Linear Support Vector Machine:\\nAccuracy: {lsvc_FraudPredictionAccuracy:.2f}, Precision: {lsvc_precision:.2f}, Recall: {lsvc_recall:.2f}\\n\")\n",
    "print(f\"Naive Bayes Classifier:\\nAccuracy: {nb_FraudPredictionAccuracy:.2f}, Precision: {nb_precision:.2f}, Recall: {nb_recall:.2f}\\n\")"
   ]
  },
  {
   "cell_type": "code",
   "execution_count": null,
   "id": "da90151c-5e80-43e8-9cc5-78d5e82cf3ac",
   "metadata": {},
   "outputs": [],
   "source": []
  }
 ],
 "metadata": {
  "kernelspec": {
   "display_name": "Python 3 (ipykernel)",
   "language": "python",
   "name": "python3"
  },
  "language_info": {
   "codemirror_mode": {
    "name": "ipython",
    "version": 3
   },
   "file_extension": ".py",
   "mimetype": "text/x-python",
   "name": "python",
   "nbconvert_exporter": "python",
   "pygments_lexer": "ipython3",
   "version": "3.10.5"
  }
 },
 "nbformat": 4,
 "nbformat_minor": 5
}
